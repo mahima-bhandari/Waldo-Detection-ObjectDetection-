{
 "cells": [
  {
   "cell_type": "code",
   "execution_count": 1,
   "id": "82f230bd-aeaa-4f46-ac74-9462b69c37a8",
   "metadata": {},
   "outputs": [],
   "source": [
    "import numpy\n",
    "import cv2"
   ]
  },
  {
   "cell_type": "code",
   "execution_count": 8,
   "id": "ebd8d385-386f-41ee-b185-146f08b1c765",
   "metadata": {},
   "outputs": [],
   "source": [
    "image = cv2.imread('WaldoBeach.jpg')"
   ]
  },
  {
   "cell_type": "code",
   "execution_count": 9,
   "id": "455ccb75-6007-47e1-980b-e609c60da43f",
   "metadata": {},
   "outputs": [],
   "source": [
    "cv2.imshow('Beach Image', image)\n",
    "cv2.waitKey()\n",
    "\n",
    "# CONVERT TO GRAY IMAGE\n",
    "gray_img = cv2.cvtColor(image, cv2.COLOR_BGR2GRAY)\n",
    "\n",
    "# Load Wado Image\n",
    "waldo_gray = cv2.imread('waldo.jpg', 0)\n",
    "\n",
    "# Apply matchTemplate\n",
    "result = cv2.matchTemplate(gray_img, waldo_gray, cv2.TM_CCOEFF)\n",
    "min_val, max_val, min_loc, max_loc = cv2.minMaxLoc(result)\n",
    "top_left = max_loc \n",
    "bottom_right = (top_left[0]+50 , top_left[1]+50)\n",
    "\n",
    "# Draw a Rectangleon the matched part\n",
    "cv2.rectangle(image, top_left, bottom_right, (0,0,255), 5)\n",
    "\n",
    "cv2.imshow('Where is Waldo?', image)\n",
    "cv2.waitKey()\n",
    "\n",
    "cv2.destroyAllWindows()"
   ]
  },
  {
   "cell_type": "code",
   "execution_count": null,
   "id": "68d58b89-bb83-4027-a8ff-ba91c32c5c69",
   "metadata": {},
   "outputs": [],
   "source": []
  }
 ],
 "metadata": {
  "kernelspec": {
   "display_name": "Python 3 (ipykernel)",
   "language": "python",
   "name": "python3"
  },
  "language_info": {
   "codemirror_mode": {
    "name": "ipython",
    "version": 3
   },
   "file_extension": ".py",
   "mimetype": "text/x-python",
   "name": "python",
   "nbconvert_exporter": "python",
   "pygments_lexer": "ipython3",
   "version": "3.11.5"
  }
 },
 "nbformat": 4,
 "nbformat_minor": 5
}
